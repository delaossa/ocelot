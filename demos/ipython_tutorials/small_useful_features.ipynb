{
 "cells": [
  {
   "cell_type": "markdown",
   "metadata": {},
   "source": [
    "*This notebook was created by Sergey Tomin (sergey.tomin@desy.de). Source and license info is on [GitHub](https://github.com/ocelot-collab/ocelot). May 2020.*"
   ]
  },
  {
   "cell_type": "markdown",
   "metadata": {},
   "source": [
    "### Appendix: some useful OCELOT functions\n",
    "\n",
    "This notebook was created to show some small functions that may be useful for accelerator physicists.\n",
    "### Contents\n",
    "1. [Aperture](#aperture)\n",
    "2. [RK tracking](#rk)"
   ]
  },
  {
   "cell_type": "code",
   "execution_count": 1,
   "metadata": {},
   "outputs": [
    {
     "name": "stdout",
     "output_type": "stream",
     "text": [
      "initializing ocelot...\n"
     ]
    }
   ],
   "source": [
    "import sys \n",
    "sys.path.append(\"/Users/tomins/Nextcloud/DESY/repository/ocelot\")\n",
    "# import modules\n",
    "from ocelot import *\n",
    "from ocelot.gui.accelerator import *\n",
    "import copy\n",
    "import pandas as pd\n",
    "import seaborn as sbn\n",
    "import time\n",
    "import matplotlib.pyplot as plt"
   ]
  },
  {
   "cell_type": "markdown",
   "metadata": {},
   "source": [
    "<a id='aperture'></a>\n",
    "### Aperture\n",
    "Suppose you have a simple (and imposible) missaligned dump beam line. \n",
    "And you want to know the best corrector setting to get 100% transmission. \n",
    "\n",
    "We are goring to explor the transmission in horizontal only. \n",
    "\n",
    "#### Lattice "
   ]
  },
  {
   "cell_type": "code",
   "execution_count": 2,
   "metadata": {},
   "outputs": [
    {
     "name": "stderr",
     "output_type": "stream",
     "text": [
      "[WARNING ] \u001b[1;33mobsolete, use dictionary instead: {'global': SecondTM}\u001b[0m \u001b[37m(optics.py:43)\u001b[0m\n"
     ]
    }
   ],
   "source": [
    "d = Drift(l=1)\n",
    "\n",
    "# horizontal correctors\n",
    "c1 = Hcor()\n",
    "c2 = Hcor()\n",
    "\n",
    "# Sextupoles\n",
    "sf = Sextupole(l=0.2, k2=3000)\n",
    "sf.dx, sf.dy = 1e-3, -1e-3\n",
    "\n",
    "sd = Sextupole(l=0.2, k2=-3000)\n",
    "sd.dx, sd.dy = 1e-3, -1e-3\n",
    "\n",
    "\n",
    "# Quadrupoles with transversal offsets\n",
    "qf = Quadrupole(l=0.2, k1=1, k2=20)\n",
    "qf.dx, qf.dy = 1e-3, -1e-3\n",
    "\n",
    "qd = Quadrupole(l=0.2, k1=-1, k2=-20, tm=SecondTM)\n",
    "qd.dx, qd.dy = -1e-3, 1e-3\n",
    "\n",
    "# Collimators\n",
    "ap1 = Aperture(xmax=5e-3, dx=-1e-3)\n",
    "ap2 = Aperture(xmax=5e-3, dx=1e-3)\n",
    "# BPMs\n",
    "m1 = Monitor()\n",
    "m2 = Monitor()\n",
    "\n",
    "# Solenoids\n",
    "solb_23_i1 = Solenoid(eid='SOLB.23.I1')\n",
    "cell = (d, c1, d, sf, d, qf, d, ap1, d, m1, d, c2, d, sd, d, qd, d, ap2, d, m2, d,)\n",
    "\n",
    "lat = MagneticLattice(cell, method=MethodTM({\"global\": SecondTM}))"
   ]
  },
  {
   "cell_type": "markdown",
   "metadata": {},
   "source": [
    "Create ParticleArray and Navigator objects"
   ]
  },
  {
   "cell_type": "code",
   "execution_count": 3,
   "metadata": {},
   "outputs": [],
   "source": [
    "p_array_init = generate_parray(sigma_x=1e-3, sigma_px=5e-5, sigma_y=1e-3, sigma_py=5e-5, \n",
    "                               nparticles=20000, charge=1e-09, energy=1.)\n",
    "\n",
    "correctors = [c1, c2]\n",
    "\n"
   ]
  },
  {
   "cell_type": "markdown",
   "metadata": {},
   "source": [
    "#### function to calculate transmission through the lattice"
   ]
  },
  {
   "cell_type": "code",
   "execution_count": 4,
   "metadata": {},
   "outputs": [],
   "source": [
    "def transmission(lat, navi, correctors, kicks):\n",
    "    for i, kick in enumerate(kicks):\n",
    "        correctors[i].angle = kick\n",
    "    \n",
    "    lat.update_transfer_maps()\n",
    "    \n",
    "    # reset position of the Navigator \n",
    "    navi.reset_position()\n",
    "    \n",
    "    p_array = copy.deepcopy(p_array_init)\n",
    "    tws_tack, p_array = track(lat, p_array, navi, calc_tws=False, print_progress=False)\n",
    "    trans = p_array.n / p_array_init.n\n",
    "    return trans\n",
    "\n",
    "\n",
    "def scan(cor1_range, cor2_range):\n",
    "    trans_response = np.zeros((len(cor2_range), len(cor1_range)))\n",
    "\n",
    "    for i, a2 in enumerate(A2):\n",
    "        print(f\"{i} of {len(A2)}\", end=\"\\r\")\n",
    "        for j, a1 in enumerate(A1):\n",
    "            kicks = [a1, a2]\n",
    "            trans_response[i, j] = transmission(lat, navi, correctors, kicks)\n",
    "    \n",
    "    return trans_response"
   ]
  },
  {
   "cell_type": "markdown",
   "metadata": {},
   "source": [
    "### Scan with two correctors. Apertures are NOT activated. \n",
    "Here we expect 100% transmission for any corrector settings."
   ]
  },
  {
   "cell_type": "code",
   "execution_count": 5,
   "metadata": {},
   "outputs": [
    {
     "name": "stdout",
     "output_type": "stream",
     "text": [
      " exec n_tracks=612:  58.029356956481934 s\n"
     ]
    },
    {
     "data": {
      "image/png": "[encoded data removed]",
      "text/plain": [
       "<Figure size 432x288 with 2 Axes>"
      ]
     },
     "metadata": {
      "needs_background": "light"
     },
     "output_type": "display_data"
    }
   ],
   "source": [
    "navi = Navigator(lat)\n",
    "\n",
    "A1 = np.arange(-2, 2.5, 0.25)*1e-3\n",
    "A2 = np.arange(-8, 9., 0.5)*1e-3\n",
    "\n",
    "start = time.time()\n",
    "\n",
    "trans_response = scan(A1, A2)\n",
    "\n",
    "print(f\" exec n_tracks={len(A2) * len(A1)}:  {time.time() - start} s\")\n",
    "df = pd.DataFrame(trans_response, index=A2, columns=A1)\n",
    "sbn.heatmap(df)\n",
    "plt.show()"
   ]
  },
  {
   "cell_type": "markdown",
   "metadata": {},
   "source": [
    "### Scan with two correctors. Apertures are activated. "
   ]
  },
  {
   "cell_type": "code",
   "execution_count": 6,
   "metadata": {},
   "outputs": [
    {
     "name": "stdout",
     "output_type": "stream",
     "text": [
      " exec n_tracks=612:  87.44334983825684 s\n"
     ]
    },
    {
     "data": {
      "image/png": "[encoded data removed]",
      "text/plain": [
       "<Figure size 432x288 with 2 Axes>"
      ]
     },
     "metadata": {
      "needs_background": "light"
     },
     "output_type": "display_data"
    }
   ],
   "source": [
    "navi = Navigator(lat)\n",
    "\n",
    "# activate apertures\n",
    "navi.activate_apertures()\n",
    "\n",
    "# activate apertures starting from element \"start\" up to element \"stop\"\n",
    "# navi.activate_apertures(start=None, stop=m1)\n",
    "\n",
    "start = time.time()\n",
    "\n",
    "trans_response = scan(A1, A2)\n",
    "\n",
    "print(f\" exec n_tracks={len(A2) * len(A1)}:  {time.time() - start} s\")\n",
    "df = pd.DataFrame(trans_response, index=A2, columns=A1)\n",
    "sbn.heatmap(df)\n",
    "plt.show()"
   ]
  },
  {
   "cell_type": "markdown",
   "metadata": {},
   "source": [
    "## Losses along accelerator lattice\n",
    "\n",
    "New feature which is available currently in dev branch.\n",
    "\n",
    "```ParticleArray``` has ```lost_particle_recorder atribute``` (```LostParticleRecorder```) has list of  s_positions along accelerator and number of particles which were lost at that point\n",
    "\n",
    "```p_array.lost_particle_recorder.lp_to_pos_hist = [(s1, n_lost_particles), (s2, n_lost_particlse), ..., (sn, n_lost_particlse)]```"
   ]
  },
  {
   "cell_type": "code",
   "execution_count": 7,
   "metadata": {},
   "outputs": [
    {
     "name": "stdout",
     "output_type": "stream",
     "text": [
      "transmission:  0.4321\n"
     ]
    },
    {
     "data": {
      "image/png": "[encoded data removed]",
      "text/plain": [
       "<Figure size 432x288 with 2 Axes>"
      ]
     },
     "metadata": {
      "needs_background": "light"
     },
     "output_type": "display_data"
    }
   ],
   "source": [
    "navi = Navigator(lat)\n",
    "\n",
    "# activate apertures\n",
    "navi.activate_apertures()\n",
    "\n",
    "c1.angle = 0\n",
    "c2.angle = 0\n",
    "\n",
    "lat.update_transfer_maps()\n",
    "    \n",
    "# reset position of the Navigator \n",
    "navi.reset_position()\n",
    "    \n",
    "p_array = copy.deepcopy(p_array_init)\n",
    "tws_tack, p_array = track(lat, p_array, navi, calc_tws=False, print_progress=False)\n",
    "trans = p_array.n / p_array_init.n\n",
    "print(\"transmission: \", trans)\n",
    "\n",
    "s = [p[0] for p in p_array.lost_particle_recorder.lp_to_pos_hist]\n",
    "nlost = [p[1] for p in p_array.lost_particle_recorder.lp_to_pos_hist]\n",
    "\n",
    "fig, ax_xy = plot_API(lat, legend=True, fig_name=10)\n",
    "ax_xy.bar(s, nlost)\n",
    "plt.show()\n"
   ]
  },
  {
   "cell_type": "markdown",
   "metadata": {},
   "source": [
    "<a id='rk'></a>\n",
    "## Tracking the electron beam with Runge-Kutta integrator in magnetic fields\n",
    "\n",
    "In OCELOT, there is a possibility to track the beam in the arbitrary defined 3D magnetic fields. \n",
    "\n",
    "You need two components to do this: \n",
    "1. define the 3D magnetic fields \n",
    "2. MethodTM, the class which creates Transfer Maps, should know that you want to apply RK integrator to an element\n"
   ]
  },
  {
   "cell_type": "markdown",
   "metadata": {},
   "source": [
    "### define 3D Magnetic fields. "
   ]
  },
  {
   "cell_type": "code",
   "execution_count": 8,
   "metadata": {},
   "outputs": [],
   "source": [
    "lperiod = 0.01 # [m] undulator period \n",
    "nperiods = 50  # number of periods\n",
    "Kx = 2         # undulator deflection parameter\n",
    "\n",
    "\n",
    "def und_field_3D(x, y, z, lperiod, Kx):\n",
    "    kx = 0.\n",
    "    kz = 2 * pi / lperiod\n",
    "    ky = np.sqrt(kz * kz + kx * kx)\n",
    "    c = speed_of_light\n",
    "    m0 = m_e_eV\n",
    "    B0 = Kx * m0 * kz / c\n",
    "    k1 = -B0 * kx / ky\n",
    "    k2 = -B0 * kz / ky\n",
    "\n",
    "    kx_x = kx * x\n",
    "    ky_y = ky * y\n",
    "    kz_z = kz * z\n",
    "\n",
    "    cosz = np.cos(kz_z)\n",
    "\n",
    "    cosx = np.cos(kx_x)\n",
    "    sinhy = np.sinh(ky_y)\n",
    "    Bx = k1 * np.sin(kx_x) * sinhy * cosz \n",
    "    By = B0 * cosx * np.cosh(ky_y) * cosz\n",
    "    Bz = k2 * cosx * sinhy * np.sin(kz_z)\n",
    "    return (Bx, By, Bz)\n",
    "\n",
    "\n",
    "# define number of points along z-axis, by default npoints = 200\n",
    "und = Undulator(lperiod=lperiod, nperiods=nperiods, Kx=Kx, eid=\"und\", npoints = 500)\n",
    "und.mag_field = lambda x, y, z: und_field_3D(x, y, z, lperiod=lperiod, Kx=Kx)"
   ]
  },
  {
   "cell_type": "markdown",
   "metadata": {},
   "source": [
    "### Create MagneticLattice and MethodTM"
   ]
  },
  {
   "cell_type": "code",
   "execution_count": 9,
   "metadata": {},
   "outputs": [
    {
     "name": "stderr",
     "output_type": "stream",
     "text": [
      "[WARNING ] \u001b[1;33mobsolete, use dictionary instead: {'global': SecondTM}\u001b[0m \u001b[37m(optics.py:43)\u001b[0m\n"
     ]
    }
   ],
   "source": [
    "from ocelot.cpbd.transformations import RungeKuttaTM\n",
    "d = Drift(l=0.5)\n",
    "qf = Quadrupole(l=0.2, k1=1.2)\n",
    "qd = Quadrupole(l=0.2, k1=-1.2)\n",
    "\n",
    "method = MethodTM()\n",
    "# let the MethodTM to know\n",
    "method.params[Undulator] = RungeKuttaTM\n",
    "\n",
    "\n",
    "lat = MagneticLattice((d, qf, d, qd, d, und, d, qf, d, qd, d), method=method)"
   ]
  },
  {
   "cell_type": "markdown",
   "metadata": {},
   "source": [
    "### Tracking through the lattice WITH RK integrator"
   ]
  },
  {
   "cell_type": "code",
   "execution_count": 10,
   "metadata": {},
   "outputs": [
    {
     "name": "stdout",
     "output_type": "stream",
     "text": [
      "z = 4.3 / 4.300000000000001 : applied: 001 : applied: "
     ]
    }
   ],
   "source": [
    "p_array = copy.deepcopy(p_array_init)\n",
    "\n",
    "navi = Navigator(lat)\n",
    "\n",
    "tws_track, _ = track(lat, p_array, navi)\n",
    "\n"
   ]
  },
  {
   "cell_type": "code",
   "execution_count": 11,
   "metadata": {},
   "outputs": [
    {
     "data": {
      "image/png": "[encoded data removed]",
      "text/plain": [
       "<Figure size 432x288 with 3 Axes>"
      ]
     },
     "metadata": {
      "needs_background": "light"
     },
     "output_type": "display_data"
    }
   ],
   "source": [
    "plot_opt_func(lat, tws_track)\n",
    "plt.show()"
   ]
  },
  {
   "cell_type": "markdown",
   "metadata": {},
   "source": [
    "### Tracking through the lattice WITHOUT RK integrator "
   ]
  },
  {
   "cell_type": "code",
   "execution_count": 12,
   "metadata": {},
   "outputs": [
    {
     "name": "stderr",
     "output_type": "stream",
     "text": [
      "[WARNING ] \u001b[1;33mobsolete, use dictionary instead: {'global': SecondTM}\u001b[0m \u001b[37m(optics.py:43)\u001b[0m\n"
     ]
    },
    {
     "name": "stdout",
     "output_type": "stream",
     "text": [
      "z = 4.3 / 4.300000000000001 : applied: 001 : applied: "
     ]
    },
    {
     "data": {
      "image/png": "[encoded data removed]",
      "text/plain": [
       "<Figure size 432x288 with 3 Axes>"
      ]
     },
     "metadata": {
      "needs_background": "light"
     },
     "output_type": "display_data"
    }
   ],
   "source": [
    "d = Drift(l=0.5)\n",
    "qf = Quadrupole(l=0.2, k1=1.2)\n",
    "qd = Quadrupole(l=0.2, k1=-1.2)\n",
    "\n",
    "method = MethodTM()\n",
    "\n",
    "lat = MagneticLattice((d, qf, d, qd, d, und, d, qf, d, qd, d), method=method)\n",
    "p_array = copy.deepcopy(p_array_init)\n",
    "\n",
    "navi = Navigator(lat)\n",
    "\n",
    "tws_track, _ = track(lat, p_array, navi)\n",
    "\n",
    "plot_opt_func(lat, tws_track)\n",
    "plt.show()"
   ]
  },
  {
   "cell_type": "markdown",
   "metadata": {},
   "source": [
    "## To be continued ... "
   ]
  },
  {
   "cell_type": "code",
   "execution_count": null,
   "metadata": {},
   "outputs": [],
   "source": []
  }
 ],
 "metadata": {
  "kernelspec": {
   "display_name": "Python 3",
   "language": "python",
   "name": "python3"
  },
  "language_info": {
   "codemirror_mode": {
    "name": "ipython",
    "version": 3
   },
   "file_extension": ".py",
   "mimetype": "text/x-python",
   "name": "python",
   "nbconvert_exporter": "python",
   "pygments_lexer": "ipython3",
   "version": "3.8.8"
  }
 },
 "nbformat": 4,
 "nbformat_minor": 4
}
