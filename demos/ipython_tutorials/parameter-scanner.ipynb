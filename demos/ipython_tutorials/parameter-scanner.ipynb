{
 "cells": [
  {
   "cell_type": "markdown",
   "id": "b6f01b5f",
   "metadata": {},
   "source": [
    "# Parameter Scanning in OCELOT\n",
    "\n",
    "This Jupyter notebook shows how you can easily and efficiently scan parameters in OCELOT, compile the results and get a nice plot at the end showing the impact of variation in the parameter on the bunch at arbitrary points in hte machine.  In this example we vary the bunch length, but it could be anything at all (dipole angle, bunch charge, physics process parameter, or a combination of these).  The parameter scans can be run in parallel run either locally (using the built-in `multiprocessing` module) or with MPI (using `mpi4py`, not covered here).\n",
    "\n",
    "Let's imagine that you want to simulate the effect of CSR on a bunch in a chicane, but you want to do it for a few different bunch lengths and see the relationship between the initial bunch length and the final transverse horizontal projected emittance.  This example shows you how to do it, and then you should be able to adapt it for you own use case."
   ]
  },
  {
   "cell_type": "code",
   "execution_count": 47,
   "id": "18e9cd9b",
   "metadata": {},
   "outputs": [],
   "source": [
    "from math import radians, cos\n",
    "\n",
    "import h5py\n",
    "import matplotlib.pyplot as plt\n",
    "\n",
    "from ocelot import *\n",
    "from ocelot.cpbd.track import ParameterScanner\n",
    "from ocelot.cpbd.io import h5py_group_to_parray"
   ]
  },
  {
   "cell_type": "markdown",
   "id": "55b79167",
   "metadata": {},
   "source": [
    "Before reading this explanation and implementation read on past the `BunchLengthScanner` implementation and see first how it is used.\n",
    "\n",
    "A parameter scan is defined by inheriting `ocelot.cpbd.track.ParameterScanner`, overriding the `prepare_navigator` method, instantiating the derived class, and then calling the `scan` method on that instance.  The `prepare_navigator` method is called internally when calling `scan` before every tracking run, and takes the `parameter`, the initial `parray` that will be used for that run and the `job_index`, which is a unique integer defining that specific run.  The `Navigator` defines almost everything about your OCELOT simulation (except the initial particle distribution), so this is why scans are implemented in terms of modification to some common `Navigator` instance.  The only thing that cannot be varied here is the ParticleArray instance to be used.  It is only provided as an argument in case the Navigator must be modified based on some property of the beam, as is the case here–different bunch lengths require different `CSR.sigma_min` values. "
   ]
  },
  {
   "cell_type": "code",
   "execution_count": 9,
   "id": "f7817117",
   "metadata": {},
   "outputs": [],
   "source": [
    "class BunchLengthScanner(ParameterScanner):\n",
    "    def prepare_navigator(self, length, parray, job_index):\n",
    "        # Start by calling the parent's method to get the base Navigator instance we wish to adapt.\n",
    "        navi = super().prepare_navigator(length, parray, job_index)\n",
    "        # Define CSR instance and attach to the navigator\n",
    "        sigma_min = 0.1 * length # could also get from parray.tau().std()\n",
    "        c = CSR()\n",
    "        c.n_bin = 300\n",
    "        c.m_bin = 5\n",
    "        c.sigma_min = sigma_min\n",
    "        start = navi.lat.sequence[0]\n",
    "        end = navi.lat.sequence[-1]\n",
    "        navi.add_physics_proc(c, start, end)\n",
    "        # Always return this new navigator.\n",
    "        return navi\n"
   ]
  },
  {
   "cell_type": "code",
   "execution_count": 66,
   "id": "f6af5f0a",
   "metadata": {},
   "outputs": [
    {
     "name": "stderr",
     "output_type": "stream",
     "text": [
      "[INFO    ] \u001b[0mStarting tracking for job number 2.\u001b[0m\n",
      "[INFO    ] \u001b[0mStarting tracking for job number 0.\u001b[0m\n",
      "[INFO    ] \u001b[0mStarting tracking for job number 1.\u001b[0m\n",
      "[INFO    ] \u001b[0mFinished tracking for job number 0.\u001b[0m\n",
      "[INFO    ] \u001b[0mFinished tracking for job number 1.\u001b[0m\n",
      "[INFO    ] \u001b[0mFinished tracking for job number 2.\u001b[0m\n"
     ]
    },
    {
     "name": "stdout",
     "output_type": "stream",
     "text": [
      "initializing ocelot...\n",
      "initializing ocelot...\n",
      "initializing ocelot...\n"
     ]
    }
   ],
   "source": [
    "# We start by defining our latice.  It is a chicane.\n",
    "dstart = Drift(eid=\"driftstart\", l=0.1)\n",
    "b1 = SBend(l=0.5, angle=-angle, e1=0, e2=-angle)\n",
    "b2 = SBend(l=0.5, angle=angle, e1=angle, e2=0.0)\n",
    "b3 = SBend(l=0.5, angle=angle, e1=0.0, e2=angle)\n",
    "b4 = SBend(l=0.5, angle=-angle, e1=-angle, e2=0.0)\n",
    "di = Drift(l=1)\n",
    "d0 = Drift(l=5 / cos(angle))\n",
    "df = Drift(l=2)\n",
    "cell = [dstart, b1, d0, b2, di, b3, marker, d0, b4, df]\n",
    "\n",
    "\n",
    "# Standard OCELOT boilerplate\n",
    "magnetic_lattice = MagneticLattice(cell, method={\"global\": SecondTM})\n",
    "navi = Navigator(magnetic_lattice)\n",
    "navi.unit_step = 0.1\n",
    "\n",
    "# Define beam parameters and list of parrays, one for each\n",
    "# of the bunch lengths we're interested in scanning.  \n",
    "# We just do three here for brevity.\n",
    "charge = 250e-12 # 250pC\n",
    "interesting_bunch_lengths = [1e-6, 10e-6, 20e-6]\n",
    "parray0s = [generate_parray(charge=charge, sigma_tau=tau) for tau in interesting_bunch_lengths]\n",
    "# Finally we instantiate our scanner.  \n",
    "# `navi` is the Navigator instance to use as a base for each simulation\n",
    "# and may be modified within BunchLengthScanner as necessary using the `prepare_navigator` method (see below)\n",
    "# to provide arbitrary simulation-by-simulation \n",
    "# The string \"bunch length\" is simply written to the output file as metadata\n",
    "# to tell the file reader what the scan was of, so it can be anything here.\n",
    "# We provide the kwarg markers to \n",
    "# tell the scanner to write the distribution to file at this point \n",
    "# (in addition to the end which is always written).\n",
    "bunch_length_scanner = BunchLengthScanner(navi, # The Navigator to use\n",
    "                                          interesting_bunch_lengths, # the 3 bunch lengths\n",
    "                                          parray0s, # The 3 parray0s to simulate\n",
    "                                          \"bunch length\", # Parameter name\n",
    "                                          markers=[marker])\n",
    "\n",
    "# And then run the scan, writing to the file given by the path and use 3 processes to do it:\n",
    "output_file_path = \"outputfile.hdf5\"\n",
    "bunch_length_scanner.scan(output_file_path, nproc=3) # Takes a minute or two "
   ]
  },
  {
   "cell_type": "markdown",
   "id": "71de6f10",
   "metadata": {},
   "source": [
    "## Parameter scan analysis"
   ]
  },
  {
   "cell_type": "code",
   "execution_count": 68,
   "id": "1c8c7a04",
   "metadata": {},
   "outputs": [],
   "source": [
    "\n",
    "with h5py.File(output_file_path) as f:\n",
    "    # Get the names of the jobs to iterate over, \n",
    "    # these are used as keys to access the saved particle arrays.\n",
    "    job_names = f[\"job_names\"][()]\n",
    "\n",
    "    bunch_lengths = []\n",
    "    emitxn_at_marker = []\n",
    "    emitxn_at_end = []\n",
    "    \n",
    "    for i, job in enumerate(job_names):\n",
    "        bunch_lengths.append(h5py_group_to_parray(f[job][\"parray0\"]).tau().std())\n",
    "\n",
    "        # get the parrays.  parray1 is the parray at the end of the lattice and is \n",
    "        # always written to file.  The marker arrays \n",
    "        # are written to the sub group named \"markers\"\n",
    "        parray1 = h5py_group_to_parray(f[job][\"parray1\"])\n",
    "        parray_marker = h5py_group_to_parray(f[job][\"markers/after-b3\"])\n",
    "\n",
    "        # Calculate the projected emittances at the marker and at the end and store them\n",
    "        emitxn_at_marker.append(global_slice_analysis(parray_marker).emitxn)\n",
    "        emitxn_at_end.append(global_slice_analysis(parray1).emitxn)\n",
    "\n"
   ]
  },
  {
   "cell_type": "code",
   "execution_count": 69,
   "id": "80b6b8e3",
   "metadata": {},
   "outputs": [
    {
     "data": {
      "text/plain": [
       "Text(0.5, 0, 'Initial bunch length / $\\\\mathrm{\\\\mu{}m}$')"
      ]
     },
     "execution_count": 69,
     "metadata": {},
     "output_type": "execute_result"
    },
    {
     "data": {
      "image/png": "[encoded data removed]",
      "text/plain": [
       "<Figure size 432x288 with 2 Axes>"
      ]
     },
     "metadata": {
      "needs_background": "light"
     },
     "output_type": "display_data"
    }
   ],
   "source": [
    "fig, (ax1, ax2) = plt.subplots(nrows=2, sharex=True)\n",
    "ax1.plot(np.array(bunch_lengths)*1e6, np.array(emitxn_at_marker)*1e6) # Convert to mmmrad and µm.\n",
    "ax2.plot(np.array(bunch_lengths)*1e6, np.array(emitxn_at_end)*1e6)\n",
    "fig.supylabel(r\"$\\varepsilon_{x}\\,\\,/\\,\\,\\mathrm{mm \\cdot{} mrad}$\")\n",
    "ax1.set_title(\"After third dipole\")\n",
    "ax2.set_title(\"End of chicane\")\n",
    "ax2.set_xlabel(r\"Initial bunch length / $\\mathrm{\\mu{}m}$\")"
   ]
  },
  {
   "cell_type": "code",
   "execution_count": null,
   "id": "660bc4eb",
   "metadata": {},
   "outputs": [],
   "source": []
  }
 ],
 "metadata": {
  "kernelspec": {
   "display_name": "Python 3 (ipykernel)",
   "language": "python",
   "name": "python3"
  },
  "language_info": {
   "codemirror_mode": {
    "name": "ipython",
    "version": 3
   },
   "file_extension": ".py",
   "mimetype": "text/x-python",
   "name": "python",
   "nbconvert_exporter": "python",
   "pygments_lexer": "ipython3",
   "version": "3.10.4"
  }
 },
 "nbformat": 4,
 "nbformat_minor": 5
}
