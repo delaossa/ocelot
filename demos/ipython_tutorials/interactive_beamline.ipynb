{
 "cells": [
  {
   "cell_type": "markdown",
   "id": "6a83c203-a979-49e8-8152-0a67037fa426",
   "metadata": {},
   "source": [
    "*This notebook was created by Sergey Tomin (sergey.tomin@desy.de). Source and license info is on [GitHub](https://github.com/ocelot-collab/ocelot). April 2025.*"
   ]
  },
  {
   "cell_type": "markdown",
   "id": "5b93879a-a8b1-41ed-ac47-29541d543d0d",
   "metadata": {},
   "source": [
    "# Ocelot for Students\n",
    "\n",
    "This is a simple example designed to help students and beginners who are just starting to study accelerator physics.  \n",
    "It aims to build intuition about how magnetic elements work.\n",
    "\n",
    "## Duplet\n",
    "\n",
    "In this section, we will consider a simple beamline consisting of only a drift and two quadrupoles.\n",
    "\n",
    "As usual, let's import the necessary Ocelot modules, the standard Python `copy` library, and `ipywidgets` for interaction with the physics model.\n",
    "\n",
    "> 💡 **Tip:** If you don't have the `ipywidgets` module installed, just search online for installation instructions:  \n",
    "> `pip install ipywidgets`"
   ]
  },
  {
   "cell_type": "code",
   "execution_count": 1,
   "id": "6b1dfe4e-03f6-41e7-8959-e25cffc76923",
   "metadata": {},
   "outputs": [
    {
     "name": "stdout",
     "output_type": "stream",
     "text": [
      "initializing ocelot...\n"
     ]
    }
   ],
   "source": [
    "import sys \n",
    "sys.path.append(\"/Users/tomins/Nextcloud/DESY/repository/ocelot/\")\n",
    "\n",
    "from ocelot import *\n",
    "from ocelot.gui import *\n",
    "from ipywidgets import interact, FloatSlider\n",
    "import copy"
   ]
  },
  {
   "cell_type": "markdown",
   "id": "2df3f339-0d88-4ae3-9a32-21671fdd69e7",
   "metadata": {},
   "source": [
    "## Create a simple lattice"
   ]
  },
  {
   "cell_type": "code",
   "execution_count": 2,
   "id": "0b055d07-5e40-4ee8-a966-70dbc1c2b6ab",
   "metadata": {},
   "outputs": [],
   "source": [
    "d = Drift(l=1.)\n",
    "qf = Quadrupole(l=0.2, k1=1)\n",
    "qd = Quadrupole(l=0.2, k1=-1)\n",
    "cell = [d, qf, d, qd, d]\n",
    "\n",
    "lat = MagneticLattice(cell)"
   ]
  },
  {
   "cell_type": "markdown",
   "id": "eb751f4b-53bb-454a-ba3f-4e8f0480dd98",
   "metadata": {},
   "source": [
    "## Let's Create a Simple Function to Plot Beta Functions\n",
    "\n",
    "Now we define a function that calculates and plots the beta functions for a simple lattice with a focusing and defocusing quadrupole.  \n",
    "You can interactively change the quadrupole strengths using sliders (if using `ipywidgets`), and observe how the beta functions evolve."
   ]
  },
  {
   "cell_type": "code",
   "execution_count": 3,
   "id": "a53aba46-f05b-4573-a074-e036d9f62f8c",
   "metadata": {},
   "outputs": [],
   "source": [
    "# Define a function that depends on some parameters\n",
    "def plot_betas(qf_k1=1.0, qd_k1=-1.0):\n",
    "    # Set quadrupole strengths\n",
    "    qf.k1 = qf_k1\n",
    "    qd.k1 = qd_k1\n",
    "\n",
    "    # Define initial Twiss parameters\n",
    "    tws0 = Twiss(beta_x=10, beta_y=10, alpha_x=0, alpha_y=0)\n",
    "\n",
    "    # Calculate Twiss parameters along the beamline\n",
    "    tws = twiss(lat, tws0, nPoints=20)\n",
    "\n",
    "    # Extract s-position and beta functions\n",
    "    sb = [tw.s for tw in tws]\n",
    "    bx = [tw.beta_x for tw in tws]\n",
    "    by = [tw.beta_y for tw in tws]\n",
    "\n",
    "    # Plot using Ocelot's built-in function (you can also use matplotlib directly)\n",
    "    fig, ax_xy = plot_API(lat, fig_name=\"Beta-functions\", legend=False)\n",
    "    ax_xy.plot(sb, bx, \"C1\", label=r\"$\\beta_x$\")\n",
    "    ax_xy.plot(sb, by, \"C2\", label=r\"$\\beta_y$\")\n",
    "    ax_xy.set_ylabel(r\"$\\beta_{x,y}$ [m]\")\n",
    "    ax_xy.set_xlabel(\"S [m]\")\n",
    "    ax_xy.legend()\n",
    "    plt.show()"
   ]
  },
  {
   "cell_type": "code",
   "execution_count": 4,
   "id": "8f527857-3ea2-4056-bd29-8106314d355a",
   "metadata": {},
   "outputs": [
    {
     "data": {
      "application/vnd.jupyter.widget-view+json": {
       "model_id": "e6b1d7616bdb434a91a5b6c7de3689a7",
       "version_major": 2,
       "version_minor": 0
      },
      "text/plain": [
       "interactive(children=(FloatSlider(value=1.0, description='qf_k1', max=20.0, min=-20.0), FloatSlider(value=-1.0…"
      ]
     },
     "metadata": {},
     "output_type": "display_data"
    },
    {
     "data": {
      "text/plain": [
       "<function __main__.plot_betas(qf_k1=1.0, qd_k1=-1.0)>"
      ]
     },
     "execution_count": 4,
     "metadata": {},
     "output_type": "execute_result"
    }
   ],
   "source": [
    "# Create interactive sliders for the parameters\n",
    "interact(\n",
    "    plot_betas,\n",
    "    qf_k1=FloatSlider(min=-20, max=20, step=0.1, value=1.0),\n",
    "    qd_k1=FloatSlider(min=-20, max=20, step=0.1, value=-1.0),\n",
    ")"
   ]
  },
  {
   "cell_type": "markdown",
   "id": "4eb7405d-1921-434d-a34a-40f781c34f21",
   "metadata": {},
   "source": [
    "## Plot Trajectories for Better Understanding of Transverse Beam Dynamics\n",
    "\n",
    "Now let's plot particle trajectories with initial transverse offsets to better visualize how the beam evolves through the lattice.\n",
    "\n",
    "We’ll use two subplots: one for horizontal (`x`) and one for vertical (`y`) motion."
   ]
  },
  {
   "cell_type": "code",
   "execution_count": 5,
   "id": "a6992b2a-ad54-41fc-b46f-4fdee725e00f",
   "metadata": {},
   "outputs": [],
   "source": [
    "\n",
    "def plot_beam(qf_k1=1.0, qd_k1=-1.0):\n",
    "    qf.k1 = qf_k1\n",
    "    qd.k1 = qd_k1\n",
    "\n",
    "    # Create particles with transverse offsets\n",
    "    x_coors = np.linspace(-0.01, 0.01, num=10)\n",
    "    y_coors = np.linspace(-0.01, 0.01, num=10)\n",
    "\n",
    "    p_list = [Particle(x=x, y=y) for x, y in zip(x_coors, y_coors)]\n",
    "    P = [copy.deepcopy(p_list)]\n",
    "    navi = Navigator(lat)\n",
    "    dz = 0.01\n",
    "\n",
    "    for _ in range(int(lat.totalLen / dz)):\n",
    "        tracking_step(lat, p_list, dz=dz, navi=navi)\n",
    "        P.append(copy.deepcopy(p_list))\n",
    "\n",
    "    # Create subplots\n",
    "    fig, (ax_x, ax_y) = plt.subplots(2, 1, figsize=(10, 6), sharex=True)\n",
    "    fig.suptitle(\"Particle Trajectories with Transverse Offsets\")\n",
    "\n",
    "    for i in range(len(p_list)):\n",
    "        s = [p[i].s for p in P]\n",
    "        x = [p[i].x for p in P]\n",
    "        y = [p[i].y for p in P]\n",
    "        ax_x.plot(s, x, \"C0\")\n",
    "        ax_y.plot(s, y, \"C1\")\n",
    "\n",
    "    ax_x.set_ylabel(\"X [m]\")\n",
    "    ax_y.set_ylabel(\"Y [m]\")\n",
    "    ax_y.set_xlabel(\"S [m]\")\n",
    "    ax_x.grid(True)\n",
    "    ax_y.grid(True)\n",
    "    plt.tight_layout(rect=[0, 0.03, 1, 0.95])\n",
    "    plt.show()"
   ]
  },
  {
   "cell_type": "code",
   "execution_count": 6,
   "id": "d1714829-1deb-4fe1-91ba-3c676bbeacd2",
   "metadata": {},
   "outputs": [
    {
     "data": {
      "application/vnd.jupyter.widget-view+json": {
       "model_id": "c5e9492f8b6a41b4a69aca595bc7350f",
       "version_major": 2,
       "version_minor": 0
      },
      "text/plain": [
       "interactive(children=(FloatSlider(value=1.0, description='qf_k1', max=20.0, min=-20.0), FloatSlider(value=-1.0…"
      ]
     },
     "metadata": {},
     "output_type": "display_data"
    },
    {
     "data": {
      "text/plain": [
       "<function __main__.plot_beam(qf_k1=1.0, qd_k1=-1.0)>"
      ]
     },
     "execution_count": 6,
     "metadata": {},
     "output_type": "execute_result"
    }
   ],
   "source": [
    "# Create interactive sliders for the parameters\n",
    "interact(\n",
    "    plot_beam,\n",
    "    qf_k1=FloatSlider(min=-20, max=20, step=0.1, value=1.0),\n",
    "    qd_k1=FloatSlider(min=-20, max=20, step=0.1, value=-1.0),\n",
    ")"
   ]
  },
  {
   "cell_type": "markdown",
   "id": "a881da54-b50a-47d3-9ef2-fa2ab0f3cfcc",
   "metadata": {},
   "source": [
    "## Bending Magnet: Quick Look at Dispersion\n",
    "\n",
    "Let's take a look at transverse beam dynamics in a dipole magnet.\n",
    "\n",
    "### A Simple Lattice\n",
    "\n",
    "We define a basic beamline composed of a drift–dipole–drift sequence:\n"
   ]
  },
  {
   "cell_type": "code",
   "execution_count": 7,
   "id": "130d6fad-41ea-4074-a6e8-ac67bf6a859c",
   "metadata": {},
   "outputs": [],
   "source": [
    "d = Drift(l=1)\n",
    "b = Bend(l=0.5, angle=5/180*np.pi)\n",
    "cell = [d, b, d]\n",
    "lat2 = MagneticLattice(cell)"
   ]
  },
  {
   "cell_type": "markdown",
   "id": "3a9ca7e3-5a43-4cbd-ac75-92076857c24e",
   "metadata": {},
   "source": [
    "Now we’ll create particles with zero initial transverse coordinates, but different momentum deviations, and observe how this affects their horizontal position.\n",
    "In other words, we’ll see dispersion in action 😊"
   ]
  },
  {
   "cell_type": "code",
   "execution_count": 8,
   "id": "61394333-892d-4fe9-af49-7542feff6311",
   "metadata": {},
   "outputs": [],
   "source": [
    "def plot_beam_dipole(angle=0.01, dip_l=0.5):\n",
    "    # Set dipole parameters (angle in degrees -> radians)\n",
    "    b.angle = angle * np.pi / 180\n",
    "    b.l = dip_l\n",
    "    print(f\"Lattice length: {lat2.totalLen:.2f} m\")\n",
    "\n",
    "    # Create particles with momentum deviations (x = 0, y = 0)\n",
    "    p_coors = np.linspace(-0.01, 0.01, num=10)\n",
    "    p_list = [Particle(x=0, y=0, p=p, E=1) for p in p_coors]\n",
    "    P = [copy.deepcopy(p_list)]\n",
    "\n",
    "    # Navigator and tracking step size\n",
    "    navi = Navigator(lat2)\n",
    "    dz = 0.01\n",
    "\n",
    "    # Track particles through the lattice\n",
    "    for _ in range(int(lat2.totalLen / dz)):\n",
    "        tracking_step(lat2, p_list, dz=dz, navi=navi)\n",
    "        P.append(copy.deepcopy(p_list))\n",
    "\n",
    "    # Plot horizontal trajectories and momenta\n",
    "    fig, (ax_x, ax_p) = plt.subplots(2, 1, figsize=(10, 6), sharex=True)\n",
    "    fig.suptitle(\"Effect of Dispersion in a Dipole Magnet\")\n",
    "\n",
    "    for i in range(len(p_list)):\n",
    "        s = [p[i].s for p in P]\n",
    "        x = [p[i].x for p in P]\n",
    "        p_vals = [p[i].p for p in P]\n",
    "\n",
    "        ax_x.plot(s, x)\n",
    "        ax_p.plot(s, p_vals, \"C0\")\n",
    "\n",
    "    ax_x.set_ylabel(\"X [m]\")\n",
    "    ax_p.set_ylabel(\"Relative Momentum p\")\n",
    "    ax_p.set_xlabel(\"S [m]\")\n",
    "    ax_x.set_ylim([-0.0025, 0.0025])\n",
    "\n",
    "    ax_x.grid(True)\n",
    "    ax_p.grid(True)\n",
    "    plt.tight_layout(rect=[0, 0.03, 1, 0.95])\n",
    "    plt.show()"
   ]
  },
  {
   "cell_type": "code",
   "execution_count": 9,
   "id": "cffcd3cd-d69d-4ae0-a829-21699e21f9a5",
   "metadata": {},
   "outputs": [
    {
     "data": {
      "application/vnd.jupyter.widget-view+json": {
       "model_id": "9d3d5e020a414f96802cdafb742770b5",
       "version_major": 2,
       "version_minor": 0
      },
      "text/plain": [
       "interactive(children=(FloatSlider(value=1.0, description='angle', max=10.0, min=-10.0, step=0.05), FloatSlider…"
      ]
     },
     "metadata": {},
     "output_type": "display_data"
    },
    {
     "data": {
      "text/plain": [
       "<function __main__.plot_beam_dipole(angle=0.01, dip_l=0.5)>"
      ]
     },
     "execution_count": 9,
     "metadata": {},
     "output_type": "execute_result"
    }
   ],
   "source": [
    "# Create interactive sliders for the parameters\n",
    "interact(\n",
    "    plot_beam_dipole,\n",
    "    angle=FloatSlider(min=-10, max=10, step=0.05, value=1.0),\n",
    "    dip_l=FloatSlider(min=0, max=2, step=0.1, value=1),\n",
    ")"
   ]
  },
  {
   "cell_type": "code",
   "execution_count": null,
   "id": "43dc6ed3-ae94-4fc2-935a-4c3e58aa4ef1",
   "metadata": {},
   "outputs": [],
   "source": []
  },
  {
   "cell_type": "code",
   "execution_count": null,
   "id": "3698d53b-15b1-48e3-aaa4-9a3f156e44ca",
   "metadata": {},
   "outputs": [],
   "source": []
  },
  {
   "cell_type": "code",
   "execution_count": null,
   "id": "426ccb66-c52b-457a-b02b-00fc0ac6aff5",
   "metadata": {},
   "outputs": [],
   "source": []
  }
 ],
 "metadata": {
  "kernelspec": {
   "display_name": "Python 3 (ipykernel)",
   "language": "python",
   "name": "python3"
  },
  "language_info": {
   "codemirror_mode": {
    "name": "ipython",
    "version": 3
   },
   "file_extension": ".py",
   "mimetype": "text/x-python",
   "name": "python",
   "nbconvert_exporter": "python",
   "pygments_lexer": "ipython3",
   "version": "3.10.15"
  }
 },
 "nbformat": 4,
 "nbformat_minor": 5
}
