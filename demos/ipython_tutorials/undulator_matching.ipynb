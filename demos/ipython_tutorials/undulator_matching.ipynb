{
 "cells": [
  {
   "cell_type": "markdown",
   "metadata": {},
   "source": [
    "*This notebook was created by Sergey Tomin (sergey.tomin@desy.de). Source and license info is on [GitHub](https://github.com/ocelot-collab/ocelot). June 2018.*"
   ]
  },
  {
   "cell_type": "markdown",
   "metadata": {},
   "source": [
    "### Appendix: FODO in thin lens approximation \n",
    "\n",
    "*This notebook was created as an answer for a question what the min/max average beta function can have the EuXFEL SASE1 undulator. The right way is asking the optics expert but it is too simple and does not make you feel the beam optics of this SASE line. Another problem is that FEL experts like to work with average betas. To meet all these requirements, I wrote this notebook, which also might help someone to understand how to deal with linear optics in OCELOT.*\n",
    "\n",
    "Let's consider the FODO cell of the SASE undulator \n",
    "\n",
    "<img src=\"fodo.png\" />\n",
    "\n",
    "Introducing $d = L_{cell}/2$ as the distance between defocusing and focusing quadrupoles.\n",
    "\n",
    "We neglect focusing effect in the vertical plan of the horizontal planar undulator.\n",
    "\n",
    "The transfer matrix of the quadrupole in thin lens approximation:\n",
    "$$\n",
    "\\begin{equation}\n",
    "M_f = \n",
    "\\begin{bmatrix}\n",
    "    1 & 0 \\\\\n",
    "    1/f & 1 \n",
    "\\end{bmatrix}\n",
    "\\end{equation}\n",
    "$$\n",
    "where $f = 1/kl$ is focal length, $k$ is quad strength and $l$ is the quad length. \n",
    "\n",
    "Drift:\n",
    "$$\n",
    "\\begin{equation}\n",
    "M_d = \n",
    "\\begin{bmatrix}\n",
    "    1 & d \\\\\n",
    "    0 & 1 \n",
    "\\end{bmatrix}\n",
    "\\end{equation}\n",
    "$$"
   ]
  },
  {
   "cell_type": "code",
   "execution_count": 1,
   "metadata": {},
   "outputs": [],
   "source": [
    "%matplotlib inline\n",
    "import sympy as sp \n",
    "sp.init_printing()"
   ]
  },
  {
   "cell_type": "markdown",
   "metadata": {},
   "source": [
    "<a id='half_cell'></a>\n",
    "Calculate the matrix for a half cell, starting in the middle of a defocusing quadrupole and ending in the meddile of a focusing lens. \n",
    "\n",
    "And denotes $f_h = 2 f$ focal length of the half quadrupole"
   ]
  },
  {
   "cell_type": "code",
   "execution_count": 2,
   "metadata": {},
   "outputs": [
    {
     "data": {
      "text/latex": [
       "$\\displaystyle \\left[\\begin{matrix}\\frac{d + fh}{fh} & d\\\\- \\frac{d}{fh^{2}} & \\frac{- d + fh}{fh}\\end{matrix}\\right]$"
      ],
      "text/plain": [
       "⎡d + fh         ⎤\n",
       "⎢──────     d   ⎥\n",
       "⎢  fh           ⎥\n",
       "⎢               ⎥\n",
       "⎢ -d     -d + fh⎥\n",
       "⎢ ───    ───────⎥\n",
       "⎢   2       fh  ⎥\n",
       "⎣ fh            ⎦"
      ]
     },
     "execution_count": 2,
     "metadata": {},
     "output_type": "execute_result"
    }
   ],
   "source": [
    "fh, d = sp.symbols(\"fh, d\")\n",
    "\n",
    "Mqf = sp.Matrix([[1, 0],[-1/fh, 1]])\n",
    "Md = sp.Matrix([[1, d],[0, 1]])\n",
    "Mqd = sp.Matrix([[1, 0],[1/fh, 1]])\n",
    "M1 = Mqf*Md*Mqd\n",
    "sp.simplify(M1)"
   ]
  },
  {
   "cell_type": "markdown",
   "metadata": {},
   "source": [
    "For second half cell $f_h \\to -f_h$"
   ]
  },
  {
   "cell_type": "code",
   "execution_count": 3,
   "metadata": {},
   "outputs": [
    {
     "data": {
      "text/latex": [
       "$\\displaystyle \\left[\\begin{matrix}- \\frac{2 d^{2}}{fh^{2}} + 1 & \\frac{2 d \\left(d + fh\\right)}{fh}\\\\\\frac{2 d \\left(d - fh\\right)}{fh^{3}} & - \\frac{2 d^{2}}{fh^{2}} + 1\\end{matrix}\\right]$"
      ],
      "text/plain": [
       "⎡      2                   ⎤\n",
       "⎢   2⋅d        2⋅d⋅(d + fh)⎥\n",
       "⎢ - ──── + 1   ────────────⎥\n",
       "⎢     2             fh     ⎥\n",
       "⎢   fh                     ⎥\n",
       "⎢                          ⎥\n",
       "⎢                    2     ⎥\n",
       "⎢2⋅d⋅(d - fh)     2⋅d      ⎥\n",
       "⎢────────────   - ──── + 1 ⎥\n",
       "⎢      3            2      ⎥\n",
       "⎣    fh           fh       ⎦"
      ]
     },
     "execution_count": 3,
     "metadata": {},
     "output_type": "execute_result"
    }
   ],
   "source": [
    "M2 = sp.Matrix([\n",
    "[(d - fh)/-fh,           d],\n",
    "[    -d/fh**2, (-d -fh)/-fh]])\n",
    "M_cell = sp.simplify(M1*M2)\n",
    "M_cell"
   ]
  },
  {
   "cell_type": "markdown",
   "metadata": {},
   "source": [
    "#### Phase advance and stability of the FODO cell\n",
    "\n",
    "Phase advance is related to the transfer matrix by:\n",
    "$$\n",
    "\\cos \\phi_{cell} = \\frac{1}{2}Trace(M_{cell}) \n",
    "$$\n",
    "Stability requares:\n",
    "$$\n",
    "\\left|Trace(M_{cell})\\right| < 2\n",
    "$$"
   ]
  },
  {
   "cell_type": "code",
   "execution_count": 4,
   "metadata": {},
   "outputs": [
    {
     "data": {
      "image/png": "[encoded data removed]",
      "text/latex": [
       "$\\displaystyle - \\frac{4 d^{2}}{fh^{2}} + 2$"
      ],
      "text/plain": [
       "     2    \n",
       "  4⋅d     \n",
       "- ──── + 2\n",
       "    2     \n",
       "  fh      "
      ]
     },
     "execution_count": 4,
     "metadata": {},
     "output_type": "execute_result"
    }
   ],
   "source": [
    "trace_M = sp.simplify(M_cell[0,0] + M_cell[1,1])\n",
    "trace_M"
   ]
  },
  {
   "cell_type": "markdown",
   "metadata": {},
   "source": [
    "#### Phase advance:\n",
    "$$\n",
    "\\cos \\phi_{cell} = \\frac{1}{2}Trace(M_{cell}) = \\frac{1}{2} \\Big(2 - \\frac{4 d^2}{f_h^2}\\Big) = 1 - \\frac{2 d^2}{f_h^2} = 1 - 2\\frac{L_{cell}^2}{16 f^2}\n",
    "$$\n",
    "\n",
    "using trigonometric double-angle formulae:\n",
    "$$\n",
    "\\cos 2\\phi = 1-2\\sin^2 \\phi\n",
    "$$\n",
    "and finally \n",
    "$$\n",
    "\\boxed{\\sin \\phi_{cell}/2 =  \\frac{L_{cell}}{4f}}\n",
    "$$\n",
    "#### Stability \n",
    "$$\n",
    "\\left| 2 - \\frac{4 d^2}{f_h^2}\\right| < 2\n",
    "$$\n",
    "rewriting \n",
    "$$\n",
    "0 < \\frac{4 d^2}{f_h^2} < 4 \\qquad \\to \\qquad f_h > d\n",
    "$$\n",
    "Finally \n",
    "$$\n",
    "\\boxed{f > \\frac{L_{cell}}{4}}\n",
    "$$"
   ]
  },
  {
   "cell_type": "markdown",
   "metadata": {},
   "source": [
    "### $\\beta$ - functions\n",
    "\n",
    "General solution of the Hill's equation $x'' + K(s)x = 0$:\n",
    "\n",
    "\\begin{equation}\n",
    "\\begin{cases}\n",
    "x(s) = \\sqrt{\\varepsilon \\beta(s)}\\cos(\\phi(s) + \\phi)\\\\\n",
    "x'(s) = -\\sqrt{\\frac{\\varepsilon}{\\beta(s)}}\\Big(\\alpha(s)\\cos(\\phi(s) + \\phi) + \\sin(\\phi(s) + \\phi)\\Big)\n",
    "\\end{cases}\n",
    "\\end{equation}\n",
    "$$$$\n",
    "Applying initial conditions at the point $s(0) = s_0$ with $\\phi(0) = 0$ and the particle coordinates $x_0, x'_0$, we will get:\n",
    "\n",
    "\\begin{equation}\n",
    "\\begin{cases}\n",
    "\\cos\\phi = \\frac{x_0}{\\sqrt{\\varepsilon \\beta_0}}\\\\\n",
    "\\sin\\phi = -\\frac{1}{\\sqrt{\\varepsilon}}\\Big( \\frac{\\alpha_0}{\\sqrt{\\beta_0}}x_0 + \\sqrt{\\beta_0}x'_0\\Big)\n",
    "\\end{cases}\n",
    "\\end{equation}\n",
    "inserting the result into the equation above:\n",
    "\\begin{equation}\n",
    "\\begin{bmatrix}\n",
    "    x_1  \\\\\n",
    "    x'_1 \n",
    "\\end{bmatrix} = \n",
    "\\begin{bmatrix}\n",
    "    \\sqrt{\\frac{\\beta_1}{\\beta_0}}(\\cos\\phi_{0\\to1} + \\alpha_0\\sin\\phi_{0\\to1}) & \\sqrt{\\beta_1\\beta_0}\\sin\\phi_{0\\to1})\\\\\n",
    "    \\frac{(\\alpha_0 - \\alpha_1)\\cos\\phi_{0\\to1} - (1 + \\alpha_0\\alpha_2)\\sin\\phi_{0\\to1}}{\\sqrt{\\beta_1\\beta_0}} & \\sqrt{\\frac{\\beta_0}{\\beta_1}}(\\cos\\phi_{0\\to1} - \\alpha_1\\sin\\phi_{0\\to1})\n",
    "\\end{bmatrix}\n",
    "\\cdot\n",
    "\\begin{bmatrix}\n",
    "    x_0  \\\\\n",
    "    x'_0 \n",
    "\\end{bmatrix}\n",
    "\\end{equation}\n",
    "$$$$\n",
    "Now consider half of the FODO cell (see picture above) ($\\phi_{0\\to1} = \\phi_{cell}/2$) and $\\beta_0 = \\beta_{min}$ and  $\\beta_1 = \\beta_{max}$ (we consider horizontal plane) and remembering that in the middle of the quads $\\alpha = 0$. From another side, we have already calculated the transfer matrix for [a half of FODO cell](#half_cell). Collecting all together:\n",
    "\n",
    "\\begin{equation} \n",
    "\\begin{bmatrix}\n",
    "    \\sqrt{\\frac{\\beta_{max}}{\\beta_{min}}}\\cos\\frac{\\phi_{cell}}{2} & \\sqrt{\\beta_{max}\\beta_{min}}\\sin\\frac{\\phi_{cell}}{2}\\\\\n",
    "    -\\frac{\\sin\\frac{\\phi_{cell}}{2}}{\\sqrt{\\beta_{max}\\beta_{min}}} & \\sqrt{\\frac{\\beta_{min}}{\\beta_{max}}}\\cos\\frac{\\phi_{cell}}{2}\n",
    "\\end{bmatrix};\n",
    "\\qquad\n",
    "\\begin{bmatrix}\n",
    "    1 + d/f_h &   d \\\\\n",
    "  -d/f_h^2 & 1 - d/f_h \n",
    "\\end{bmatrix}\n",
    "\\end{equation}\n",
    "\n",
    "after some gymnastics with trigonometric identities (and taking into account $\\sin \\phi_{cell}/2 = \\frac{d}{f_h}= \\frac{L_{cell}}{4f}$)\n",
    "\n",
    "$$\n",
    "\\beta_{max} = \\frac{1 + \\sin \\frac{\\phi_{cell}}{2}}{\\sin\\phi_{cell}}L_{cell}\n",
    "$$\n",
    "\n",
    "$$\n",
    "\\beta_{min} = \\frac{1 - \\sin \\frac{\\phi_{cell}}{2}}{\\sin\\phi_{cell}}L_{cell}\n",
    "$$\n",
    "If we neglect the fact the beta function in the drift space takes the form of a quadratic function ($\\beta(s) = \\beta_0 - 2\\alpha_0 s + \\gamma_0 s^2$) and assume instead a linear behavior, the average $\\beta$-function will be\n",
    "$$\n",
    "\\overline \\beta \\approx \\frac{\\beta_{max} + \\beta_{min}}{2} = \\frac{L_{cell}}{\\sin\\phi_{cell}}\n",
    "$$\n",
    "\n",
    "What means that minimum average beta-function will be with phase advance $\\phi_{cell} = 90^0$. For SASE1 undulator $L_{cell} = 12.2$ and taking into account that our calculations were done with some level approximation:\n",
    "$$\n",
    "\\overline \\beta_{min} \\approx \\frac{12.2 m}{\\sin 90^0} = 12.2 m\n",
    "$$\n"
   ]
  },
  {
   "cell_type": "markdown",
   "metadata": {},
   "source": [
    "### More accurate solution\n",
    "Taking into account quadratic shape of the $\\beta$ in the drift space and go through some simple steps, finally we will get more exact solution:\n",
    "1. Twiss parameters transformation \n",
    "\\begin{equation}\n",
    "\\begin{bmatrix}\n",
    "    \\beta  \\\\\n",
    "    \\alpha \\\\\n",
    "    \\gamma\n",
    "\\end{bmatrix}_1 = \n",
    "\\begin{bmatrix}\n",
    "    C^2 & -2SC & S^2\\\\\n",
    "    -C C' & SC' + S'C & -SS'\\\\\n",
    "    C'^2 & -2 S'C' & S'^2\n",
    "\\end{bmatrix}\n",
    "\\cdot\n",
    "\\begin{bmatrix}\n",
    "    \\beta  \\\\\n",
    "    \\alpha \\\\\n",
    "    \\gamma\n",
    "\\end{bmatrix}_0\n",
    "\\end{equation}\n",
    "Where $C,S, C', S'$ are elements of the transfer matrix\n",
    "\\begin{equation}\n",
    "M = \n",
    "\\begin{bmatrix}\n",
    "    C & S \\\\\n",
    "    C' & S' \n",
    "\\end{bmatrix}\n",
    "\\end{equation}\n",
    "\n",
    "2. twiss parameters after the thin quadrupole:\n",
    "$$\n",
    "\\beta_1 = \\beta_0 \\\\\n",
    "\\alpha_1 = -\\frac{\\beta_0}{f} + \\alpha_0 \\\\\n",
    "\\gamma_1 = \\frac{1}{f^2} - 2 \\frac{\\alpha_0}{f} + \\gamma_0\n",
    "$$\n",
    "In the middle of the quadrupole $\\alpha_0 = 0$ then\n",
    "$$\n",
    "\\alpha_1 = -\\frac{\\beta_0}{f_h}\n",
    "$$\n",
    "3. In the drift space $\\beta$ behave:\n",
    "$$\n",
    "\\beta(s) = \\beta_0 - 2\\alpha_0 s + \\gamma_0 s^2\n",
    "$$\n",
    "4. Because FODO cell is symetric and we are considering the thin lens approximation the average $\\overline \\beta$ is:\n",
    "$$\n",
    "\\overline \\beta = \\frac{2}{L}\\int_0^{L/2}\\left(\\beta_0 - 2\\alpha_0 s + \\gamma_0s^2 \\right)ds = \\beta_0 - \\frac{\\alpha_0 L}{2} + \\gamma_0\\frac{L^2}{12}\n",
    "$$\n",
    "5. Inserting expression for $\\beta_{min}$ and express focal length against the phase advance we will get:\n",
    "$$\n",
    "\\boxed{\\overline \\beta = \\frac{L}{6 \\sin\\phi_{cell}}\\big(5 + \\cos\\phi_{cell} \\big)}\n",
    "$$\n",
    "\n",
    "<div class=\"alert alert-block alert-info\">\n",
    "<b>Note:</b> The result looks simple, probably this expression can be found in some handbooks. \n",
    "</div>\n",
    "\n",
    "\n",
    "$$$$\n",
    "The minimum possible average $\\overline\\beta_{min}$ will be with $\\frac{d \\overline \\beta}{d\\phi_{cell}} = 0$ what gives us $\\phi_{cell} = \\pi - \\arctan 2\\sqrt 6 \\approx 101^0$. \n",
    "\n",
    "And for our case $L_{cell} = 12.2 m$ it will be \n",
    "$$\n",
    "\\overline \\beta_{min}  \\approx 9.96\n",
    "$$"
   ]
  },
  {
   "cell_type": "markdown",
   "metadata": {},
   "source": [
    "Might be useful to find condition for minimum possible $\\beta_{max}$ \n",
    "$$\n",
    "\\frac{d}{d\\phi}\\beta_{max} = 0\n",
    "$$"
   ]
  },
  {
   "cell_type": "code",
   "execution_count": 5,
   "metadata": {},
   "outputs": [
    {
     "data": {
      "image/png": "[encoded data removed]",
      "text/latex": [
       "$\\displaystyle - \\frac{\\left(\\sin{\\left(\\frac{\\phi}{2} \\right)} + 1\\right) \\cos{\\left(\\phi \\right)}}{\\sin^{2}{\\left(\\phi \\right)}} + \\frac{\\cos{\\left(\\frac{\\phi}{2} \\right)}}{2 \\sin{\\left(\\phi \\right)}}$"
      ],
      "text/plain": [
       "  ⎛   ⎛φ⎞    ⎞              ⎛φ⎞ \n",
       "  ⎜sin⎜─⎟ + 1⎟⋅cos(φ)    cos⎜─⎟ \n",
       "  ⎝   ⎝2⎠    ⎠              ⎝2⎠ \n",
       "- ─────────────────── + ────────\n",
       "           2            2⋅sin(φ)\n",
       "        sin (φ)                 "
      ]
     },
     "execution_count": 5,
     "metadata": {},
     "output_type": "execute_result"
    }
   ],
   "source": [
    "phi = sp.Symbol(\"phi\")\n",
    "sp.diff((1 + sp.sin(phi/2))/sp.sin(phi), phi)"
   ]
  },
  {
   "cell_type": "code",
   "execution_count": 6,
   "metadata": {},
   "outputs": [
    {
     "name": "stdout",
     "output_type": "stream",
     "text": [
      "Cell phase advance for minimum possible bmax: phi =  [76.34541525]\n"
     ]
    }
   ],
   "source": [
    "import numpy as np\n",
    "from scipy.optimize import root\n",
    "from matplotlib import pyplot as plt\n",
    "fun = lambda phi: -(np.sin(phi/2) + 1)*np.cos(phi)/np.sin(phi)**2 + np.cos(phi/2)/(2*np.sin(phi))\n",
    "res = root(fun, 0.1)\n",
    "print(\"Cell phase advance for minimum possible bmax: phi = \", res.x*180/np.pi)"
   ]
  },
  {
   "cell_type": "markdown",
   "metadata": {},
   "source": [
    "### SASE1 undulator. Numerical simulation\n"
   ]
  },
  {
   "cell_type": "code",
   "execution_count": 7,
   "metadata": {},
   "outputs": [
    {
     "name": "stdout",
     "output_type": "stream",
     "text": [
      "initializing ocelot...\n"
     ]
    },
    {
     "data": {
      "image/png": "[encoded data removed]",
      "text/plain": [
       "<Figure size 432x288 with 3 Axes>"
      ]
     },
     "metadata": {},
     "output_type": "display_data"
    }
   ],
   "source": [
    "%matplotlib inline\n",
    "from ocelot import *\n",
    "from ocelot.gui.accelerator import *\n",
    "from scipy.integrate import simps\n",
    "from ocelot.cpbd import optics\n",
    "\n",
    "d1 = Drift(l=0.43065, eid='d1')\n",
    "d2 = Drift(l=0.55565, eid='d2')\n",
    "l = 0.1137\n",
    "k = 2*0.1137/l\n",
    "\n",
    "qd = Quadrupole(l=l/2, k1=-k, tilt=0.0)\n",
    "qf = Quadrupole(l=l, k1=k, tilt=0.0)\n",
    "K = 3\n",
    "u40 = Undulator(lperiod=0.04, nperiods=125, Kx=K, Ky=0.0)\n",
    "m1 = Marker()\n",
    "m2 = Marker()\n",
    "fodo_cell = [m1, qd, d1, u40, d2, qf, d1, u40, d2, qd, m2]\n",
    "fodo_lat = MagneticLattice(fodo_cell)\n",
    "\n",
    "tws = twiss(fodo_lat, nPoints=1000)\n",
    "\n",
    "plot_opt_func(fodo_lat, tws, top_plot=[\"mux\", \"muy\"], legend=False)\n",
    "plt.show()"
   ]
  },
  {
   "cell_type": "code",
   "execution_count": 8,
   "metadata": {},
   "outputs": [
    {
     "name": "stdout",
     "output_type": "stream",
     "text": [
      "min(beta_av) =  9.991836064058338 m\n"
     ]
    },
    {
     "data": {
      "image/png": "[encoded data removed]",
      "text/plain": [
       "<Figure size 432x288 with 2 Axes>"
      ]
     },
     "metadata": {},
     "output_type": "display_data"
    }
   ],
   "source": [
    "def beta(k):\n",
    "    qd.k1 = -k\n",
    "    qf.k1 = k\n",
    "    fodo_lat.update_transfer_maps()\n",
    "    tws = twiss(fodo_lat, nPoints=1000)\n",
    "    bx = np.array([tw.beta_x for tw in tws])\n",
    "    s = np.array([tw.s for tw in tws])\n",
    "    bx_av = simps(bx, s)/fodo_lat.totalLen\n",
    "    phi = tws[-1].mux\n",
    "    L = fodo_lat.totalLen\n",
    "    bx_av_th = L/6 * (5 + np.cos(phi))/np.sin(phi)\n",
    "    return bx_av, bx.max(), bx.min(), tws[-1].mux*180/np.pi, bx_av_th\n",
    "\n",
    "k = np.arange(0.3, 2.9, 0.05)\n",
    "Bx_min = []\n",
    "Bx_max = []\n",
    "Bx_av = []\n",
    "Bx_av_theory = []\n",
    "Phi = []\n",
    "for k1 in k:\n",
    "    bx_av, bx_max, bx_min, phi, bx_av_th = beta(k1)\n",
    "    Bx_min.append(bx_min)\n",
    "    Bx_max.append(bx_max)\n",
    "    Bx_av.append(bx_av)\n",
    "    Phi.append(phi)\n",
    "    Bx_av_theory.append(bx_av_th)\n",
    "    \n",
    "fig, ax1 = plt.subplots()\n",
    "plt.title(r\"$\\beta$ - average and max against quad strength\")\n",
    "ax1.plot(k, Bx_av, label=r\"$\\beta_{av}$\")\n",
    "ax1.plot(k, Bx_av_theory,\"g--\", label=r\"$\\beta_{av}^{theory}$\")\n",
    "ax1.plot(k, Bx_max, label=r\"$\\beta_{max}$\")\n",
    "ax1.set_ylabel(r\"$\\beta$, m\")\n",
    "ax1.set_xlabel(\"k, 1/m2\")\n",
    "plt.legend()\n",
    "print(\"min(beta_av) = \", np.min(Bx_av), \"m\" )\n",
    "ax2 = ax1.twinx()\n",
    "ax2.plot(k, Phi, \"r\", label=r\"$\\phi_{cell}$\")\n",
    "ax2.set_ylabel(r\"$\\phi_{cell}$\", color='r')\n",
    "ax2.tick_params('y', colors='r')\n",
    "plt.legend()\n",
    "plt.grid(False)\n",
    "plt.show()"
   ]
  },
  {
   "cell_type": "markdown",
   "metadata": {},
   "source": [
    "### Limitations\n",
    "\n",
    "The maximum possible strength of the undulator quadrupoles is  $k_{max} = 1.94729$ what means that we can have minimum average beta-function close to 10m (see the Figure above). \n",
    "\n",
    "Now we need to consider the limitations of the matching sections."
   ]
  },
  {
   "cell_type": "markdown",
   "metadata": {},
   "source": [
    "## Inverse the task\n",
    "\n",
    "Find the quad strength and FODO cell params if beta average is defined\n",
    "\n",
    "### FODO estimator"
   ]
  },
  {
   "cell_type": "code",
   "execution_count": 9,
   "metadata": {},
   "outputs": [
    {
     "name": "stdout",
     "output_type": "stream",
     "text": [
      "k1 =  1.771751963648942 1/m^2\n",
      "bmin / bmax =  4.851965262428619 / 20.314939511625177 m\n",
      "calculated beta_av =  11.000000000000059 m\n",
      "phi =  75.8191420392388 deg\n"
     ]
    }
   ],
   "source": [
    "from scipy.optimize import root\n",
    "\n",
    "def fodo_estimator(beta_av, Lcell, lq=0.1137):\n",
    "    fun = lambda phi: Lcell/6 * (5 + np.cos(phi))/np.sin(phi) - beta_av\n",
    "    res = root(fun, 0.1)\n",
    "    phi = res.x[0]\n",
    "    b_av = Lcell/6 * (5 + np.cos(phi))/np.sin(phi)\n",
    "    f = Lcell/(4*np.sin(phi/2))\n",
    "    kq = 1/f/lq\n",
    "    bmax = (1 + np.sin(phi/2))/np.sin(phi)*Lcell\n",
    "    bmin = (1 - np.sin(phi/2))/np.sin(phi)*Lcell\n",
    "    return kq, phi, bmin, bmax, b_av\n",
    "    \n",
    "kq, phi, bmin, bmax, b_av = fodo_estimator(beta_av=11, Lcell=12.2)\n",
    "print(\"k1 = \", kq, \"1/m^2\")\n",
    "print(\"bmin / bmax = \", bmin, \"/\", bmax, \"m\")\n",
    "print(\"calculated beta_av = \", b_av, \"m\")\n",
    "print(\"phi = \", phi*180/np.pi, \"deg\")"
   ]
  },
  {
   "cell_type": "markdown",
   "metadata": {},
   "source": [
    "### FODO correction due to undulator focusing "
   ]
  },
  {
   "cell_type": "code",
   "execution_count": 10,
   "metadata": {},
   "outputs": [],
   "source": [
    "def fodo_correction_SASE1(beta_av=60, K=3):\n",
    "    kq, phi, bmin, bmax, b_av = fodo_estimator(beta_av=beta_av, Lcell=12.2)\n",
    "    \n",
    "    print(\"Estimation: beta_x = \", np.round(bmin,3), \"; beta_y = \", np.round(bmax, 3),\n",
    "          \"; phi = \", np.round(phi*180/np.pi), \"grad\"\n",
    "          \"; kf/kd = \", np.round(kq, 4),\"/\", np.round(-kq, 4))\n",
    "    \n",
    "    # SASE1 FODO cell\n",
    "    d1 = Drift(l=0.43065, eid='d1')\n",
    "    d2 = Drift(l=0.55565, eid='d2')\n",
    "    qd = Quadrupole(l=0.1137/2, k1=-kq, tilt=0.0)\n",
    "    qf = Quadrupole(l=0.1137, k1=kq, tilt=0.0)\n",
    "    u40 = Undulator(lperiod=0.04, nperiods=125, Kx=K, Ky=0.0)\n",
    "    m1 = Marker()\n",
    "    m2 = Marker()\n",
    "    fodo_cell = [m1, qd, d1, u40, d2, qf, d1, u40, d2, qd, m2]\n",
    "    \n",
    "    # constraints\n",
    "    constr = {fodo_cell[-1]: {'mux':phi, \"muy\":phi}, \"periodic\": True}\n",
    "\n",
    "    # variables\n",
    "    vars = [qf, qd]\n",
    "    \n",
    "    tws = Twiss()\n",
    "    tws.beta_x = bmin\n",
    "    tws.beta_y = bmax\n",
    "    tws.E = 14\n",
    "    \n",
    "    res = match(MagneticLattice(fodo_cell), constr=constr,tw=tws, \n",
    "                vars=vars, max_iter=2000, verbose=False)\n",
    "    kf, kd = res\n",
    "    \n",
    "    qf.k1 = kf\n",
    "    qd.k1 = kd\n",
    "    \n",
    "    fodo_lat = MagneticLattice(fodo_cell)\n",
    "\n",
    "    tws = twiss(fodo_lat, tws0=tws, nPoints=1000)\n",
    "    print(\"Correction: beta_x = \", np.round(tws[0].beta_x, 3), \n",
    "          \"beta_y = \", np.round(tws[0].beta_y, 3), \n",
    "          \" kf/kd = \", np.round(kf,4), \"/\", np.round(kd,4))\n",
    "    #plot_opt_func(fodo_lat, tws, top_plot=[\"mux\", \"muy\"], legend=False)\n",
    "    #plt.show()\n",
    "    return kf, kd, bmin, bmax"
   ]
  },
  {
   "cell_type": "markdown",
   "metadata": {},
   "source": [
    "### Current lattice $\\overline\\beta \\approx 32$ m"
   ]
  },
  {
   "cell_type": "code",
   "execution_count": null,
   "metadata": {},
   "outputs": [],
   "source": [
    "import sase1_lattice as sase1"
   ]
  },
  {
   "cell_type": "code",
   "execution_count": 12,
   "metadata": {},
   "outputs": [
    {
     "name": "stdout",
     "output_type": "stream",
     "text": [
      "emit_x  = 0.0\n",
      "emit_y  = 0.0\n",
      "beta_x  = 10.506745988156398\n",
      "beta_y  = 42.02704133328497\n",
      "alpha_x = 0.676085898798978\n",
      "alpha_y = -2.1449229692237783\n",
      "gamma_x = 0.0\n",
      "gamma_y = 0.0\n",
      "Dx      = 0.0\n",
      "Dy      = 0.0\n",
      "Dxp     = 0.0\n",
      "Dyp     = 0.0\n",
      "mux     = 0.0\n",
      "muy     = 0.0\n",
      "nu_x    = 0.0\n",
      "nu_y    = 0.0\n",
      "E       = 14\n",
      "s        = 0.0\n",
      "\n"
     ]
    },
    {
     "data": {
      "image/png": "[encoded data removed]",
      "text/plain": [
       "<Figure size 432x288 with 3 Axes>"
      ]
     },
     "metadata": {},
     "output_type": "display_data"
    }
   ],
   "source": [
    "lat = MagneticLattice(sase1.cell)#, stop=sase1.fodo_match)\n",
    "print(sase1.tws)\n",
    "#sase1.tws.beta_x = 15\n",
    "#sase1.tws.beta_y = 50\n",
    "tws = twiss(lat, tws0=sase1.tws)\n",
    "plot_opt_func(lat, tws, legend=False)\n",
    "plt.show()"
   ]
  },
  {
   "cell_type": "markdown",
   "metadata": {},
   "source": [
    "### $\\overline \\beta = 60$ m\n",
    "\n",
    "*Sometimes require run this cell two times to get a correct result*  "
   ]
  },
  {
   "cell_type": "code",
   "execution_count": 15,
   "metadata": {},
   "outputs": [
    {
     "name": "stdout",
     "output_type": "stream",
     "text": [
      "Estimation: beta_x =  54.076 ; beta_y =  66.34 ; phi =  12.0 grad; kf/kd =  0.2937 / -0.2937\n",
      "initial value: x =  [0.29368260023214693, -0.29368260023214693]\n",
      "Optimization terminated successfully.\n",
      "         Current function value: 0.000032\n",
      "         Iterations: 40\n",
      "         Function evaluations: 79\n",
      "Correction: beta_x =  54.076 beta_y =  66.34  kf/kd =  0.2648 / -0.2583\n",
      "initial value: x =  [-0.2244, 0.2309, -0.1911, 0.1653, -0.0881, 0.0953]\n",
      "Optimization terminated successfully.\n",
      "         Current function value: 0.000031\n",
      "         Iterations: 158\n",
      "         Function evaluations: 279\n"
     ]
    },
    {
     "data": {
      "image/png": "[encoded data removed]",
      "text/plain": [
       "<Figure size 432x288 with 3 Axes>"
      ]
     },
     "metadata": {},
     "output_type": "display_data"
    }
   ],
   "source": [
    "kf, kd, bmin, bmax = fodo_correction_SASE1(beta_av=60, K=3)\n",
    "# constraints\n",
    "constr = {sase1.fodo_match: {'beta_x':bmax, \"beta_y\":bmin, \n",
    "                             \"alpha_x\": 0, \"alpha_y\": 0}}\n",
    "\n",
    "quad_limits = {sase1.qf_2177_t2: [-0.654, 0],\n",
    "             sase1.qf_2192_t2: [0 ,0.654],\n",
    "             sase1.qf_2207_t2: [-0.654, 0],\n",
    "             sase1.qf_2218_t2: [0 ,0.654],\n",
    "             sase1.qa_2229_t2: [-1.94, 0],\n",
    "             sase1.qa_2235_t2: [0, 1.94]}\n",
    "# variables\n",
    "vars = [sase1.qf_2177_t2, sase1.qf_2192_t2,\n",
    "        sase1.qf_2207_t2, \n",
    "        sase1.qf_2218_t2, sase1.qa_2229_t2, sase1.qa_2235_t2]\n",
    "\n",
    "# because of variables redundancy, we can help a bit to find a more elegant solution \n",
    "# *** comment lines or change inital conditions if you want to play with matching\n",
    "sase1.qf_2177_t2.k1 = -0.2244\n",
    "sase1.qf_2192_t2.k1 = 0.2309\n",
    "sase1.qf_2207_t2.k1 = -0.1911\n",
    "sase1.qf_2218_t2.k1 = 0.1653\n",
    "sase1.qa_2229_t2.k1 = -0.0881\n",
    "sase1.qa_2235_t2.k1 = 0.0953\n",
    "\n",
    "# *** comment lines or change inital conditions if you want to play with matching\n",
    "lat.update_transfer_maps()\n",
    "\n",
    "res = match(lat, constr=constr, vars=vars, tw=sase1.tws, max_iter=2000, verbose=False)\n",
    "\n",
    "sase1.qa_2241_sa1.k1 = kd\n",
    "sase1.qa_2247_sa1.k1 = kf\n",
    "sase1.qa_2247_sa1_h.k1 = kf\n",
    "lat.update_transfer_maps()\n",
    "tws = twiss(lat, tws0=sase1.tws)\n",
    "plot_opt_func(lat, tws, legend=False)\n",
    "plt.show()"
   ]
  },
  {
   "cell_type": "markdown",
   "metadata": {},
   "source": [
    "#### Checking quads limits"
   ]
  },
  {
   "cell_type": "code",
   "execution_count": 16,
   "metadata": {},
   "outputs": [
    {
     "name": "stdout",
     "output_type": "stream",
     "text": [
      "QF.2177.T2.k1 = -0.2244;   strength is OK : True\n",
      "QF.2192.T2.k1 = 0.2309;   strength is OK : True\n",
      "QF.2207.T2.k1 = -0.1911;   strength is OK : True\n",
      "QF.2218.T2.k1 = 0.1653;   strength is OK : True\n",
      "QA.2229.T2.k1 = -0.0881;   strength is OK : True\n",
      "QA.2235.T2.k1 = 0.0953;   strength is OK : True\n"
     ]
    }
   ],
   "source": [
    "# check quads limits\n",
    "for q, k in zip(vars, res):\n",
    "    print(q.id + \".k1 = \"+ str(np.round(k,4)) +  \";   strength is OK :\",\n",
    "          quad_limits[q][0]<k<quad_limits[q][1])"
   ]
  },
  {
   "cell_type": "markdown",
   "metadata": {},
   "source": [
    "### $\\overline \\beta = 11$ m\n",
    "*Sometimes require run this cell two times to get a correct result* "
   ]
  },
  {
   "cell_type": "code",
   "execution_count": 18,
   "metadata": {},
   "outputs": [
    {
     "name": "stdout",
     "output_type": "stream",
     "text": [
      "Estimation: beta_x =  4.852 ; beta_y =  20.315 ; phi =  76.0 grad; kf/kd =  1.7718 / -1.7718\n",
      "initial value: x =  [1.771751963648942, -1.771751963648942]\n",
      "Optimization terminated successfully.\n",
      "         Current function value: 0.000035\n",
      "         Iterations: 33\n",
      "         Function evaluations: 66\n",
      "Correction: beta_x =  4.852 beta_y =  20.315  kf/kd =  1.7811 / -1.7755\n",
      "initial value: x =  [-0.2227, 0.211, -0.2176, 0.2392, -0.9728, 1.3215]\n",
      "Optimization terminated successfully.\n",
      "         Current function value: 0.000001\n",
      "         Iterations: 154\n",
      "         Function evaluations: 275\n"
     ]
    },
    {
     "data": {
      "image/png": "[encoded data removed]",
      "text/plain": [
       "<Figure size 432x288 with 3 Axes>"
      ]
     },
     "metadata": {},
     "output_type": "display_data"
    }
   ],
   "source": [
    "kf, kd, bmin, bmax = fodo_correction_SASE1(beta_av=11, K=3)\n",
    "# constraints\n",
    "constr = {sase1.fodo_match: {'beta_x':bmax, \"beta_y\":bmin, \n",
    "                             \"alpha_x\": 0, \"alpha_y\": 0}}\n",
    "\n",
    "\n",
    "# variables\n",
    "vars = [sase1.qf_2177_t2, sase1.qf_2192_t2, sase1.qf_2207_t2, \n",
    "        sase1.qf_2218_t2, sase1.qa_2229_t2, sase1.qa_2235_t2]\n",
    "\n",
    "# because of variables redundancy, we can help a bit to find a more elegant solution\n",
    "# *** comment lines or change inital conditions if you want to play with matching\n",
    "sase1.qf_2177_t2.k1 = -0.2227\n",
    "sase1.qf_2192_t2.k1 = 0.211\n",
    "sase1.qf_2207_t2.k1 = -0.2176\n",
    "sase1.qf_2218_t2.k1 = 0.2392\n",
    "sase1.qa_2229_t2.k1 = -0.9728\n",
    "sase1.qa_2235_t2.k1 = 1.3215\n",
    "# *** comment lines or change inital conditions if you want to play with matching\n",
    "lat.update_transfer_maps()\n",
    "\n",
    "res = match(lat, constr=constr, vars=vars, tw=sase1.tws, max_iter=2000, verbose=False)\n",
    "\n",
    "sase1.qa_2241_sa1.k1 = kd\n",
    "sase1.qa_2247_sa1.k1 = kf\n",
    "sase1.qa_2247_sa1_h.k1 = kf\n",
    "lat.update_transfer_maps()\n",
    "tws = twiss(lat, tws0=sase1.tws)\n",
    "plot_opt_func(lat, tws, legend=False)\n",
    "plt.show()"
   ]
  },
  {
   "cell_type": "markdown",
   "metadata": {},
   "source": [
    "#### Checking quads limits"
   ]
  },
  {
   "cell_type": "code",
   "execution_count": 19,
   "metadata": {},
   "outputs": [
    {
     "name": "stdout",
     "output_type": "stream",
     "text": [
      "QF.2177.T2.k1 = -0.2226;   strength is OK : True\n",
      "QF.2192.T2.k1 = 0.211;   strength is OK : True\n",
      "QF.2207.T2.k1 = -0.2176;   strength is OK : True\n",
      "QF.2218.T2.k1 = 0.2393;   strength is OK : True\n",
      "QA.2229.T2.k1 = -0.9747;   strength is OK : True\n",
      "QA.2235.T2.k1 = 1.3232;   strength is OK : True\n"
     ]
    }
   ],
   "source": [
    "# check quads limits\n",
    "for q, k in zip(vars, res):\n",
    "    print(q.id + \".k1 = \"+ str(np.round(k,4)) +  \";   strength is OK :\",\n",
    "          quad_limits[q][0]<k<quad_limits[q][1])"
   ]
  },
  {
   "cell_type": "code",
   "execution_count": null,
   "metadata": {},
   "outputs": [],
   "source": []
  },
  {
   "cell_type": "code",
   "execution_count": null,
   "metadata": {},
   "outputs": [],
   "source": []
  }
 ],
 "metadata": {
  "kernelspec": {
   "display_name": "Python 3",
   "language": "python",
   "name": "python3"
  },
  "language_info": {
   "codemirror_mode": {
    "name": "ipython",
    "version": 3
   },
   "file_extension": ".py",
   "mimetype": "text/x-python",
   "name": "python",
   "nbconvert_exporter": "python",
   "pygments_lexer": "ipython3",
   "version": "3.7.7"
  }
 },
 "nbformat": 4,
 "nbformat_minor": 2
}
